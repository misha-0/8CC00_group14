{
 "cells": [
  {
   "cell_type": "markdown",
   "id": "34535ab9",
   "metadata": {},
   "source": [
    "## <b>Retreive descriptors</b>\n",
    "This documents retreives the descriptors of the SMILES using RDKit"
   ]
  },
  {
   "cell_type": "code",
   "execution_count": 10,
   "id": "initial_id",
   "metadata": {
    "ExecuteTime": {
     "end_time": "2024-06-17T16:02:02.092244Z",
     "start_time": "2024-06-17T16:02:01.506770Z"
    },
    "collapsed": true
   },
   "outputs": [],
   "source": [
    "# Import all necessary modules\n",
    "from rdkit import Chem\n",
    "import pandas as pd\n",
    "from rdkit.Chem import Descriptors"
   ]
  },
  {
   "cell_type": "code",
   "execution_count": 11,
   "id": "be24f06f86eb0162",
   "metadata": {
    "ExecuteTime": {
     "end_time": "2024-06-17T16:11:47.282709Z",
     "start_time": "2024-06-17T16:11:47.265930Z"
    }
   },
   "outputs": [],
   "source": [
    "def get_descriptors_to_csv(csv, csv_descriptors):\n",
    "    \"\"\"\n",
    "    Parameters:\n",
    "    csv: csv file path of csv file with column 'SMILES', which is filed with strings of the type 'SMILES'\n",
    "    csv_descriptors: csv file path of new file with descriptors\n",
    "    return: csv file stored in \"csv_descriptors\"\n",
    "    \n",
    "    In total, we got 208 descriptors. There are two major categories: (1) physicochemical properties and (2) Fraction of a substructure (e.g., 'fr_Al_COO'). For most of the molecules, you will get a lot zeros for the 2nd category descriptors. The following code will only compute the 1st category descriptors.\n",
    "    \"\"\"\n",
    "    data = pd.read_csv(csv)\n",
    "    desc_list = [n[0] for n in Descriptors._descList]  # List with the 208 descriptors\n",
    "    phc_desc = [i for i in desc_list if not i.startswith('fr_')]  # List with descriptors from category 1\n",
    "    \n",
    "    from rdkit.ML.Descriptors import MoleculeDescriptors\n",
    "    \n",
    "    calc = MoleculeDescriptors.MolecularDescriptorCalculator(phc_desc)\n",
    "    mols = [Chem.MolFromSmiles(smi) for smi in data['SMILES']]\n",
    "    \n",
    "    rdkit_desc_sub = [calc.CalcDescriptors(m) for m in mols]\n",
    "    \n",
    "    df = pd.DataFrame(rdkit_desc_sub, columns=phc_desc, index = data['SMILES'])\n",
    "    csv_descriptors = df.to_csv(csv_descriptors)\n",
    "    \n",
    "    return csv_descriptors"
   ]
  },
  {
   "cell_type": "code",
   "execution_count": 12,
   "id": "deaab5594a27e133",
   "metadata": {
    "ExecuteTime": {
     "end_time": "2024-06-17T16:12:53.546207Z",
     "start_time": "2024-06-17T16:12:01.946863Z"
    }
   },
   "outputs": [],
   "source": [
    "\"\"\"\n",
    "Run this cell to retrieve the RDKit data in csv format with names as used in the project\n",
    "\"\"\"\n",
    "get_descriptors_to_csv('Data/untested_molecules.csv', 'Data/untested_molecules_descriptors.csv')\n",
    "get_descriptors_to_csv('Data/tested_molecules.csv', 'Data/tested_molecules_descriptors.csv')"
   ]
  },
  {
   "cell_type": "code",
   "execution_count": null,
   "id": "ea7a1031",
   "metadata": {},
   "outputs": [],
   "source": []
  }
 ],
 "metadata": {
  "kernelspec": {
   "display_name": "Python 3",
   "language": "python",
   "name": "python3"
  },
  "language_info": {
   "codemirror_mode": {
    "name": "ipython",
    "version": 2
   },
   "file_extension": ".py",
   "mimetype": "text/x-python",
   "name": "python",
   "nbconvert_exporter": "python",
   "pygments_lexer": "ipython2",
   "version": "2.7.6"
  }
 },
 "nbformat": 4,
 "nbformat_minor": 5
}
